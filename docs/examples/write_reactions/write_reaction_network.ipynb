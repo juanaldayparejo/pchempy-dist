{
 "cells": [
  {
   "cell_type": "code",
   "execution_count": 1,
   "id": "dcc13647",
   "metadata": {},
   "outputs": [],
   "source": [
    "from pchempy import *"
   ]
  },
  {
   "cell_type": "code",
   "execution_count": 2,
   "id": "482847f2",
   "metadata": {},
   "outputs": [
    {
     "name": "stdout",
     "output_type": "stream",
     "text": [
      "1       O + O2 + CO2 -> O3 + CO2\n",
      "2       O + O + CO2 -> O2 + CO2\n",
      "3       O + O3 -> O2 + O2\n",
      "4       O(1D) + CO2 -> O + CO2\n",
      "5       O(1D) + H2O -> OH + OH\n",
      "6       O(1D) + H2 -> OH + H\n",
      "7       O(1D) + O2 -> O + O2\n",
      "8       O(1D) + O3  -> O2 + O2\n",
      "9       O(1D) + O3  -> O2 + O + O\n",
      "10       O + HO2 -> OH + O2\n",
      "11       O + OH -> O2 + H\n",
      "12       H + O3 -> OH + O2\n",
      "13       H + HO2 -> OH + OH\n",
      "14       H + HO2 -> H2 + O2\n",
      "15       H + HO2 -> H2O + O\n",
      "16       OH + HO2 -> H2O + O2\n",
      "17       HO2 + HO2 -> H2O2 + O2\n",
      "18       OH + H2O2 -> H2O + HO2\n",
      "19       OH + H2 -> H2O + H\n",
      "20       H + O2 + CO2 -> HO2 + CO2\n",
      "21       O + H2O2 -> OH + HO2\n",
      "22       OH + OH -> H2O + O\n",
      "23       OH + O3 -> HO2 + O2\n",
      "24       HO2 + O3 -> OH + O2 + O2\n",
      "25       HO2 + HO2 + CO2 -> H2O2 + O2 + CO2\n",
      "26       OH + OH + CO2 -> H2O2 + CO2\n",
      "27       H + H + CO2 -> H2 + CO2\n",
      "28       NO2 + O -> NO + O2\n",
      "29       NO + O3 -> NO2 + O2\n",
      "30       NO + HO2 -> NO2 + OH\n",
      "31       N + NO -> N2 + O\n",
      "32       N + O2 -> NO + O\n",
      "33       NO2 + H -> NO + OH\n",
      "34       N + O -> NO\n",
      "35       N + HO2 -> NO + OH\n",
      "36       N + OH -> NO + H\n",
      "37       N(2D) + O  -> N + O\n",
      "38       N(2D) + N2  -> N + N2\n",
      "39       N(2D) + CO2  -> NO + CO\n",
      "40       OH + CO -> CO2 + H\n",
      "41       O + CO + M -> CO2 + M\n"
     ]
    }
   ],
   "source": [
    "#Listing all the reactions\n",
    "for ir in range(41):\n",
    "    \n",
    "    reaction_name = reaction_info[str(ir+1)][\"name\"]\n",
    "    print(ir+1,'     ',reaction_name)"
   ]
  },
  {
   "cell_type": "code",
   "execution_count": 3,
   "id": "ed295404",
   "metadata": {},
   "outputs": [
    {
     "name": "stdout",
     "output_type": "stream",
     "text": [
      "[1, 2, 3, 4, 5, 6, 7, 8, 9, 10, 11, 12, 13, 14, 15, 16, 17, 18, 19, 20, 21, 22, 23, 24, 25, 26, 27, 40, 41]\n",
      "1       O + O2 + CO2 -> O3 + CO2\n",
      "2       O + O + CO2 -> O2 + CO2\n",
      "3       O + O3 -> O2 + O2\n",
      "4       O(1D) + CO2 -> O + CO2\n",
      "5       O(1D) + H2O -> OH + OH\n",
      "6       O(1D) + H2 -> OH + H\n",
      "7       O(1D) + O2 -> O + O2\n",
      "8       O(1D) + O3  -> O2 + O2\n",
      "9       O(1D) + O3  -> O2 + O + O\n",
      "10       O + HO2 -> OH + O2\n",
      "11       O + OH -> O2 + H\n",
      "12       H + O3 -> OH + O2\n",
      "13       H + HO2 -> OH + OH\n",
      "14       H + HO2 -> H2 + O2\n",
      "15       H + HO2 -> H2O + O\n",
      "16       OH + HO2 -> H2O + O2\n",
      "17       HO2 + HO2 -> H2O2 + O2\n",
      "18       OH + H2O2 -> H2O + HO2\n",
      "19       OH + H2 -> H2O + H\n",
      "20       H + O2 + CO2 -> HO2 + CO2\n",
      "21       O + H2O2 -> OH + HO2\n",
      "22       OH + OH -> H2O + O\n",
      "23       OH + O3 -> HO2 + O2\n",
      "24       HO2 + O3 -> OH + O2 + O2\n",
      "25       HO2 + HO2 + CO2 -> H2O2 + O2 + CO2\n",
      "26       OH + OH + CO2 -> H2O2 + CO2\n",
      "27       H + H + CO2 -> H2 + CO2\n",
      "40       OH + CO -> CO2 + H\n",
      "41       O + CO + M -> CO2 + M\n",
      "(13C) 40       OH + (13C)O -> (13C)O2 + H\n",
      "(13C) 41       O + (13C)O + M -> (13C)O2 + M\n"
     ]
    }
   ],
   "source": [
    "gasID_phot = [7,2,3,1,25,44,39,2]\n",
    "isoID_phot = [0,0,0,0,0,0,0,2]\n",
    "\n",
    "reactions = []\n",
    "for i in range(27):\n",
    "    reactions.append(i+1)\n",
    "reactions.append(40)\n",
    "reactions.append(41)\n",
    "\n",
    "reactions_c13 = [40,41]\n",
    "print(reactions)\n",
    "module_name = 'mars_c13'\n",
    "\n",
    "\n",
    "#Listing selected reactions\n",
    "for ir in range(len(reactions)):\n",
    "    reaction_name = reaction_info[str(reactions[ir])][\"name\"]\n",
    "    print(reactions[ir],'     ',reaction_name)\n",
    "for ir in range(len(reactions_c13)):\n",
    "    reaction_name = reaction_c13_info[str(reactions_c13[ir])][\"name\"]\n",
    "    print('(13C)',reactions_c13[ir],'     ',reaction_name)"
   ]
  },
  {
   "cell_type": "code",
   "execution_count": 4,
   "id": "e1e60eec",
   "metadata": {},
   "outputs": [],
   "source": [
    "write_chemistry_fortran(module_name,gasID_phot,isoID_phot,reactions,reactions_c13=reactions_c13)\n",
    "write_diffusion_fortran(module_name)\n",
    "write_converge_fortran(module_name)\n",
    "write_compiler_fortran(module_name)"
   ]
  },
  {
   "cell_type": "code",
   "execution_count": null,
   "id": "f1fe3d09",
   "metadata": {},
   "outputs": [],
   "source": []
  }
 ],
 "metadata": {
  "kernelspec": {
   "display_name": "Python 3 (ipykernel)",
   "language": "python",
   "name": "python3"
  },
  "language_info": {
   "codemirror_mode": {
    "name": "ipython",
    "version": 3
   },
   "file_extension": ".py",
   "mimetype": "text/x-python",
   "name": "python",
   "nbconvert_exporter": "python",
   "pygments_lexer": "ipython3",
   "version": "3.9.16"
  }
 },
 "nbformat": 4,
 "nbformat_minor": 5
}
